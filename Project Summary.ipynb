{
 "cells": [
  {
   "cell_type": "markdown",
   "id": "ba892c05",
   "metadata": {},
   "source": [
    "## Employee Performance Analysis - INX Futur Inc"
   ]
  },
  {
   "cell_type": "markdown",
   "id": "43b47093",
   "metadata": {},
   "source": [
    "\n",
    "Candidate Name           : Anoop k\n",
    "E-Mail                   : anoopkrishna.k9gmail.com\n",
    "REP Name                 : DataMites™ Solutions Pvt Ltd\n",
    "Assesment ID             : E10901-PR2-V18\n",
    "Module                   : Certified Data Scientist - Project\n",
    "Exam Format              : Open Project- IABAC™ Project Submission\n",
    "Registered Trainer       : Ashok Kumar A\n",
    "Submission Deadline Date :\t09-Sep-2024 "
   ]
  },
  {
   "cell_type": "markdown",
   "id": "c584b2f3-1007-46b3-9fb8-21f7a1e434e0",
   "metadata": {},
   "source": [
    "## Dataset Name\n",
    "\n",
    "- Employee Performance Data"
   ]
  },
  {
   "cell_type": "markdown",
   "id": "e60ebf0c",
   "metadata": {},
   "source": [
    "## Employee Performance Prediction Model Report"
   ]
  },
  {
   "cell_type": "markdown",
   "id": "024c9cf5",
   "metadata": {},
   "source": [
    "### Business Problem\n",
    "\n",
    "The goal of this project was to analyze employee data to predict employee performance ratings at a company. The ability to predict high and low performers can help with talent management decisions like promotions."
   ]
  },
  {
   "cell_type": "markdown",
   "id": "0dc1f393",
   "metadata": {},
   "source": [
    "### Data\n",
    "\n",
    "The raw data contained around 1200 records with 27 features describing employee details like demographics, tenure, job satisfaction, etc. The target variable was PerformanceRating which needed to be predicted."
   ]
  },
  {
   "cell_type": "markdown",
   "id": "d4c23e48",
   "metadata": {},
   "source": [
    "### Data Preprocessing\n",
    "\n",
    "Various preprocessing techniques were applied:\n",
    "\n",
    "- **Missing value handling:** No missing values were present.\n",
    "\n",
    "- **Outlier handling:** Detected and capped outliers in features like TotalWorkExperienceInYears, TrainingTimesLastYear etc using IQR ranges.\n",
    "\n",
    "- **Categorical encoding:** Converted categorical features like Gender, MaritalStatus etc into numeric using manual and frequency-based encoding.\n",
    "\n",
    "- **Feature scaling:** Scaled numerical features using StandardScaler to normalize distribution.\n",
    "\n",
    "- **Dimensionality reduction:** Applied PCA and reduced dimensions from 27 to 25 by preserving over 90% variance."
   ]
  },
  {
   "cell_type": "markdown",
   "id": "59334391",
   "metadata": {},
   "source": [
    "### Exploratory Data Analysis\n",
    "\n",
    "Performed detailed exploratory analysis:\n",
    "\n",
    "- **Univariate analysis** on continuous features like Age, EmpHourlyRate using histograms. Analyzed categorical features like Department using bar plots.\n",
    "\n",
    "- **Bivariate analysis** using correlation matrix and scatter plots between features like Age and EmpLastSalaryHikePercent.\n",
    "\n",
    "- **Multivariate analysis** by generating pairplots to understand interactions between multiple features.\n",
    "\n",
    "Key observations:\n",
    "\n",
    "- Features like TotalWorkExperienceInYears exhibited right skewed distributions. Applied transformations like square root.\n",
    "\n",
    "- Most employees received 11-15% EmpLastSalaryHikePercent. EmpRelationshipSatisfaction was Fairly Good.\n",
    "\n",
    "- Attributes like YearsSinceLastPromotion provided insights into career growth."
   ]
  },
  {
   "cell_type": "markdown",
   "id": "cc453aa0",
   "metadata": {},
   "source": [
    "### Model Building and Evaluation\n",
    "\n",
    "Experimented with 3 supervised ML models:\n",
    "\n",
    "- Support Vector Machine: Achieved 94.66% testing accuracy after tuning using GridSearch. Overfitted training data.\n",
    "\n",
    "- Random Forest: Tuning did not improve test accuracy (95.61%) by much. Overfitted on training data.\n",
    "\n",
    "- Multilayer Perceptron: Got 95.42% test accuracy without tuning due to better generalization.\n",
    "\n",
    "Selected **Multilayer Perceptron** as optimal model based on superior test performance."
   ]
  },
  {
   "cell_type": "markdown",
   "id": "c8236925",
   "metadata": {},
   "source": [
    "### Model Diagnostics\n",
    "\n",
    "- Calculated evaluation metrics like accuracy, precision, recall, F1-score. Generated classification reports.\n",
    "\n",
    "- Created confusion matrix to analyze types of correct and incorrect predictions.\n",
    "\n",
    "- Visualized feature distributions and correlations to diagnose data issues.\n",
    "\n"
   ]
  },
  {
   "cell_type": "markdown",
   "id": "deb5c6f7",
   "metadata": {},
   "source": [
    "### Goal 1:\n",
    "\n",
    "**Department wise performances**\n",
    "\n",
    "- The exploratory analysis included bar plots visualizing employee distribution across different departments like Sales, R&D etc.\n",
    "\n",
    "- This provided insights into department-wise composition and potential imbalances."
   ]
  },
  {
   "cell_type": "markdown",
   "id": "9c25c8ec",
   "metadata": {},
   "source": [
    "### Goal 2:\n",
    "\n",
    "**Top 3 Important Factors effecting employee performance**\n",
    "\n",
    "- The correlation matrix helped identify relationships between features like job satisfaction and performance rating.\n",
    "\n",
    "- Critical factors like work experience, training times and relationship satisfaction were analyzed.\n",
    "\n",
    "- But the top 3 factors were not explicitly identified. This could be done by selecting features with the highest correlation coefficients.\n",
    "\n",
    "### Goal 3:\n",
    "\n",
    "**A trained model which can predict the employee performance**\n",
    "\n",
    "- Three models (SVM, Random Forest and MLP) were trained and evaluated using accuracy metrics.\n",
    "\n",
    "- The MLP model was selected as the best performing model for employee performance prediction.\n",
    "\n",
    "- The model was persisted by saving it using Pickle library.\n",
    "\n",
    "### Goal 4:\n",
    "\n",
    "**Recommendations to improve the employee performance**\n",
    "\n",
    "- This aspect was not covered in the report. Some example recommendations could be:\n",
    "\n",
    "- Increase training/upskilling programs to improve competencies\n",
    "\n",
    "- Foster better work relationships and engagement through team building\n",
    "\n",
    "- Offer monetary and non-monetary incentives linked to performance\n",
    "\n",
    "- Provide coaching and mentoring for low performers"
   ]
  },
  {
   "cell_type": "markdown",
   "id": "f4b3b5ea",
   "metadata": {},
   "source": [
    "### Conclusion\n",
    "\n",
    "The Multilayer Perceptron model gave 95% test accuracy with good generalization capability. Followed a structured machine learning workflow involving data preprocessing, model building, diagnostics and optimizations. The end-to-end implementation, analysis and choice of final model were appropriate."
   ]
  },
  {
   "cell_type": "code",
   "execution_count": null,
   "id": "e24c0cb2",
   "metadata": {},
   "outputs": [],
   "source": []
  }
 ],
 "metadata": {
  "kernelspec": {
   "display_name": "Python 3 (ipykernel)",
   "language": "python",
   "name": "python3"
  },
  "language_info": {
   "codemirror_mode": {
    "name": "ipython",
    "version": 3
   },
   "file_extension": ".py",
   "mimetype": "text/x-python",
   "name": "python",
   "nbconvert_exporter": "python",
   "pygments_lexer": "ipython3",
   "version": "3.10.9"
  }
 },
 "nbformat": 4,
 "nbformat_minor": 5
}
